{
 "cells": [
  {
   "cell_type": "code",
   "execution_count": 61,
   "metadata": {},
   "outputs": [],
   "source": [
    "import pandas as pd\n",
    "import numpy as np\n",
    "import seaborn as sns\n",
    "import matplotlib as plt"
   ]
  },
  {
   "cell_type": "code",
   "execution_count": 62,
   "metadata": {},
   "outputs": [],
   "source": [
    "df = pd.read_csv('ProgressSpread.csv')"
   ]
  },
  {
   "cell_type": "code",
   "execution_count": 63,
   "metadata": {},
   "outputs": [
    {
     "data": {
      "text/html": [
       "<div>\n",
       "<style scoped>\n",
       "    .dataframe tbody tr th:only-of-type {\n",
       "        vertical-align: middle;\n",
       "    }\n",
       "\n",
       "    .dataframe tbody tr th {\n",
       "        vertical-align: top;\n",
       "    }\n",
       "\n",
       "    .dataframe thead th {\n",
       "        text-align: right;\n",
       "    }\n",
       "</style>\n",
       "<table border=\"1\" class=\"dataframe\">\n",
       "  <thead>\n",
       "    <tr style=\"text-align: right;\">\n",
       "      <th></th>\n",
       "      <th>Date</th>\n",
       "      <th>Week</th>\n",
       "      <th>Goal #</th>\n",
       "      <th>Goal</th>\n",
       "      <th>Status</th>\n",
       "    </tr>\n",
       "  </thead>\n",
       "  <tbody>\n",
       "    <tr>\n",
       "      <th>0</th>\n",
       "      <td>2020-01-27</td>\n",
       "      <td>1</td>\n",
       "      <td>1</td>\n",
       "      <td>Format the new Raspberry Pi and install necess...</td>\n",
       "      <td>Completed</td>\n",
       "    </tr>\n",
       "    <tr>\n",
       "      <th>1</th>\n",
       "      <td>2020-01-27</td>\n",
       "      <td>1</td>\n",
       "      <td>2</td>\n",
       "      <td>Build simple TkInter GUI for testing Purposes</td>\n",
       "      <td>In Progress</td>\n",
       "    </tr>\n",
       "    <tr>\n",
       "      <th>2</th>\n",
       "      <td>2020-01-27</td>\n",
       "      <td>1</td>\n",
       "      <td>3</td>\n",
       "      <td>Integrate GUI with Raspberry Pi and touchscreen</td>\n",
       "      <td>Completed</td>\n",
       "    </tr>\n",
       "    <tr>\n",
       "      <th>3</th>\n",
       "      <td>2020-01-27</td>\n",
       "      <td>1</td>\n",
       "      <td>4</td>\n",
       "      <td>Test BME sensors on the Raspberry Pi</td>\n",
       "      <td>In Progress</td>\n",
       "    </tr>\n",
       "    <tr>\n",
       "      <th>4</th>\n",
       "      <td>2020-02-03</td>\n",
       "      <td>2</td>\n",
       "      <td>2</td>\n",
       "      <td>Build simple TkInter GUI for testing Purposes</td>\n",
       "      <td>Completed</td>\n",
       "    </tr>\n",
       "  </tbody>\n",
       "</table>\n",
       "</div>"
      ],
      "text/plain": [
       "         Date  Week  Goal #  \\\n",
       "0  2020-01-27     1       1   \n",
       "1  2020-01-27     1       2   \n",
       "2  2020-01-27     1       3   \n",
       "3  2020-01-27     1       4   \n",
       "4  2020-02-03     2       2   \n",
       "\n",
       "                                                Goal       Status  \n",
       "0  Format the new Raspberry Pi and install necess...    Completed  \n",
       "1      Build simple TkInter GUI for testing Purposes  In Progress  \n",
       "2    Integrate GUI with Raspberry Pi and touchscreen    Completed  \n",
       "3               Test BME sensors on the Raspberry Pi  In Progress  \n",
       "4      Build simple TkInter GUI for testing Purposes    Completed  "
      ]
     },
     "execution_count": 63,
     "metadata": {},
     "output_type": "execute_result"
    }
   ],
   "source": [
    "df.head()"
   ]
  },
  {
   "cell_type": "code",
   "execution_count": 64,
   "metadata": {},
   "outputs": [
    {
     "data": {
      "text/plain": [
       "array(['Completed', 'In Progress', 'Abandoned'], dtype=object)"
      ]
     },
     "execution_count": 64,
     "metadata": {},
     "output_type": "execute_result"
    }
   ],
   "source": [
    "df.Status.unique()"
   ]
  },
  {
   "cell_type": "code",
   "execution_count": 65,
   "metadata": {},
   "outputs": [
    {
     "data": {
      "text/html": [
       "<div>\n",
       "<style scoped>\n",
       "    .dataframe tbody tr th:only-of-type {\n",
       "        vertical-align: middle;\n",
       "    }\n",
       "\n",
       "    .dataframe tbody tr th {\n",
       "        vertical-align: top;\n",
       "    }\n",
       "\n",
       "    .dataframe thead th {\n",
       "        text-align: right;\n",
       "    }\n",
       "</style>\n",
       "<table border=\"1\" class=\"dataframe\">\n",
       "  <thead>\n",
       "    <tr style=\"text-align: right;\">\n",
       "      <th></th>\n",
       "      <th>Date</th>\n",
       "      <th>Week</th>\n",
       "      <th>Goal #</th>\n",
       "      <th>Goal</th>\n",
       "      <th>Status</th>\n",
       "      <th>Abandoned</th>\n",
       "      <th>Completed</th>\n",
       "      <th>In Progress</th>\n",
       "    </tr>\n",
       "  </thead>\n",
       "  <tbody>\n",
       "    <tr>\n",
       "      <th>0</th>\n",
       "      <td>2020-01-27</td>\n",
       "      <td>1</td>\n",
       "      <td>1</td>\n",
       "      <td>Format the new Raspberry Pi and install necess...</td>\n",
       "      <td>Completed</td>\n",
       "      <td>0</td>\n",
       "      <td>1</td>\n",
       "      <td>0</td>\n",
       "    </tr>\n",
       "    <tr>\n",
       "      <th>1</th>\n",
       "      <td>2020-01-27</td>\n",
       "      <td>1</td>\n",
       "      <td>2</td>\n",
       "      <td>Build simple TkInter GUI for testing Purposes</td>\n",
       "      <td>In Progress</td>\n",
       "      <td>0</td>\n",
       "      <td>0</td>\n",
       "      <td>1</td>\n",
       "    </tr>\n",
       "    <tr>\n",
       "      <th>2</th>\n",
       "      <td>2020-01-27</td>\n",
       "      <td>1</td>\n",
       "      <td>3</td>\n",
       "      <td>Integrate GUI with Raspberry Pi and touchscreen</td>\n",
       "      <td>Completed</td>\n",
       "      <td>0</td>\n",
       "      <td>1</td>\n",
       "      <td>0</td>\n",
       "    </tr>\n",
       "    <tr>\n",
       "      <th>3</th>\n",
       "      <td>2020-01-27</td>\n",
       "      <td>1</td>\n",
       "      <td>4</td>\n",
       "      <td>Test BME sensors on the Raspberry Pi</td>\n",
       "      <td>In Progress</td>\n",
       "      <td>0</td>\n",
       "      <td>0</td>\n",
       "      <td>1</td>\n",
       "    </tr>\n",
       "    <tr>\n",
       "      <th>4</th>\n",
       "      <td>2020-02-03</td>\n",
       "      <td>2</td>\n",
       "      <td>2</td>\n",
       "      <td>Build simple TkInter GUI for testing Purposes</td>\n",
       "      <td>Completed</td>\n",
       "      <td>0</td>\n",
       "      <td>1</td>\n",
       "      <td>0</td>\n",
       "    </tr>\n",
       "  </tbody>\n",
       "</table>\n",
       "</div>"
      ],
      "text/plain": [
       "         Date  Week  Goal #  \\\n",
       "0  2020-01-27     1       1   \n",
       "1  2020-01-27     1       2   \n",
       "2  2020-01-27     1       3   \n",
       "3  2020-01-27     1       4   \n",
       "4  2020-02-03     2       2   \n",
       "\n",
       "                                                Goal       Status  Abandoned  \\\n",
       "0  Format the new Raspberry Pi and install necess...    Completed          0   \n",
       "1      Build simple TkInter GUI for testing Purposes  In Progress          0   \n",
       "2    Integrate GUI with Raspberry Pi and touchscreen    Completed          0   \n",
       "3               Test BME sensors on the Raspberry Pi  In Progress          0   \n",
       "4      Build simple TkInter GUI for testing Purposes    Completed          0   \n",
       "\n",
       "   Completed  In Progress  \n",
       "0          1            0  \n",
       "1          0            1  \n",
       "2          1            0  \n",
       "3          0            1  \n",
       "4          1            0  "
      ]
     },
     "execution_count": 65,
     "metadata": {},
     "output_type": "execute_result"
    }
   ],
   "source": [
    "df = pd.concat([df, pd.get_dummies(df['Status'])], axis=1)\n",
    "df.head()"
   ]
  },
  {
   "cell_type": "code",
   "execution_count": 66,
   "metadata": {},
   "outputs": [
    {
     "data": {
      "text/html": [
       "<div>\n",
       "<style scoped>\n",
       "    .dataframe tbody tr th:only-of-type {\n",
       "        vertical-align: middle;\n",
       "    }\n",
       "\n",
       "    .dataframe tbody tr th {\n",
       "        vertical-align: top;\n",
       "    }\n",
       "\n",
       "    .dataframe thead th {\n",
       "        text-align: right;\n",
       "    }\n",
       "</style>\n",
       "<table border=\"1\" class=\"dataframe\">\n",
       "  <thead>\n",
       "    <tr style=\"text-align: right;\">\n",
       "      <th></th>\n",
       "      <th>Date</th>\n",
       "      <th>Week</th>\n",
       "      <th>Goal #</th>\n",
       "      <th>Goal</th>\n",
       "      <th>Status</th>\n",
       "      <th>Abandoned</th>\n",
       "      <th>Completed</th>\n",
       "      <th>In Progress</th>\n",
       "    </tr>\n",
       "  </thead>\n",
       "  <tbody>\n",
       "    <tr>\n",
       "      <th>0</th>\n",
       "      <td>2020-01-27</td>\n",
       "      <td>1</td>\n",
       "      <td>1</td>\n",
       "      <td>Format the new Raspberry Pi and install necess...</td>\n",
       "      <td>Completed</td>\n",
       "      <td>0</td>\n",
       "      <td>1</td>\n",
       "      <td>0</td>\n",
       "    </tr>\n",
       "    <tr>\n",
       "      <th>2</th>\n",
       "      <td>2020-01-27</td>\n",
       "      <td>1</td>\n",
       "      <td>3</td>\n",
       "      <td>Integrate GUI with Raspberry Pi and touchscreen</td>\n",
       "      <td>Completed</td>\n",
       "      <td>0</td>\n",
       "      <td>1</td>\n",
       "      <td>0</td>\n",
       "    </tr>\n",
       "    <tr>\n",
       "      <th>4</th>\n",
       "      <td>2020-02-03</td>\n",
       "      <td>2</td>\n",
       "      <td>2</td>\n",
       "      <td>Build simple TkInter GUI for testing Purposes</td>\n",
       "      <td>Completed</td>\n",
       "      <td>0</td>\n",
       "      <td>1</td>\n",
       "      <td>0</td>\n",
       "    </tr>\n",
       "    <tr>\n",
       "      <th>6</th>\n",
       "      <td>2020-02-03</td>\n",
       "      <td>2</td>\n",
       "      <td>5</td>\n",
       "      <td>Establish UWS Wi-Fi connection with the raspbe...</td>\n",
       "      <td>Completed</td>\n",
       "      <td>0</td>\n",
       "      <td>1</td>\n",
       "      <td>0</td>\n",
       "    </tr>\n",
       "    <tr>\n",
       "      <th>9</th>\n",
       "      <td>2020-02-10</td>\n",
       "      <td>3</td>\n",
       "      <td>4</td>\n",
       "      <td>Test BME sensors on the Raspberry Pi</td>\n",
       "      <td>Completed</td>\n",
       "      <td>0</td>\n",
       "      <td>1</td>\n",
       "      <td>0</td>\n",
       "    </tr>\n",
       "    <tr>\n",
       "      <th>11</th>\n",
       "      <td>2020-02-10</td>\n",
       "      <td>3</td>\n",
       "      <td>7</td>\n",
       "      <td>Begin GUI backend construction (passing input ...</td>\n",
       "      <td>Completed</td>\n",
       "      <td>0</td>\n",
       "      <td>1</td>\n",
       "      <td>0</td>\n",
       "    </tr>\n",
       "    <tr>\n",
       "      <th>14</th>\n",
       "      <td>2020-02-10</td>\n",
       "      <td>3</td>\n",
       "      <td>10</td>\n",
       "      <td>Log input data to csv or txt file</td>\n",
       "      <td>Completed</td>\n",
       "      <td>0</td>\n",
       "      <td>1</td>\n",
       "      <td>0</td>\n",
       "    </tr>\n",
       "    <tr>\n",
       "      <th>18</th>\n",
       "      <td>2020-02-23</td>\n",
       "      <td>4</td>\n",
       "      <td>12</td>\n",
       "      <td>Use Dr. Barlage’s current source and new adapt...</td>\n",
       "      <td>Completed</td>\n",
       "      <td>0</td>\n",
       "      <td>1</td>\n",
       "      <td>0</td>\n",
       "    </tr>\n",
       "    <tr>\n",
       "      <th>20</th>\n",
       "      <td>2020-02-23</td>\n",
       "      <td>4</td>\n",
       "      <td>14</td>\n",
       "      <td>Compile Task Data for Progress Report</td>\n",
       "      <td>Completed</td>\n",
       "      <td>0</td>\n",
       "      <td>1</td>\n",
       "      <td>0</td>\n",
       "    </tr>\n",
       "    <tr>\n",
       "      <th>21</th>\n",
       "      <td>2020-02-23</td>\n",
       "      <td>4</td>\n",
       "      <td>15</td>\n",
       "      <td>Run simulations to test GUI abnormalities and ...</td>\n",
       "      <td>Completed</td>\n",
       "      <td>0</td>\n",
       "      <td>1</td>\n",
       "      <td>0</td>\n",
       "    </tr>\n",
       "  </tbody>\n",
       "</table>\n",
       "</div>"
      ],
      "text/plain": [
       "          Date  Week  Goal #  \\\n",
       "0   2020-01-27     1       1   \n",
       "2   2020-01-27     1       3   \n",
       "4   2020-02-03     2       2   \n",
       "6   2020-02-03     2       5   \n",
       "9   2020-02-10     3       4   \n",
       "11  2020-02-10     3       7   \n",
       "14  2020-02-10     3      10   \n",
       "18  2020-02-23     4      12   \n",
       "20  2020-02-23     4      14   \n",
       "21  2020-02-23     4      15   \n",
       "\n",
       "                                                 Goal     Status  Abandoned  \\\n",
       "0   Format the new Raspberry Pi and install necess...  Completed          0   \n",
       "2     Integrate GUI with Raspberry Pi and touchscreen  Completed          0   \n",
       "4       Build simple TkInter GUI for testing Purposes  Completed          0   \n",
       "6   Establish UWS Wi-Fi connection with the raspbe...  Completed          0   \n",
       "9                Test BME sensors on the Raspberry Pi  Completed          0   \n",
       "11  Begin GUI backend construction (passing input ...  Completed          0   \n",
       "14                 Log input data to csv or txt file   Completed          0   \n",
       "18  Use Dr. Barlage’s current source and new adapt...  Completed          0   \n",
       "20              Compile Task Data for Progress Report  Completed          0   \n",
       "21  Run simulations to test GUI abnormalities and ...  Completed          0   \n",
       "\n",
       "    Completed  In Progress  \n",
       "0           1            0  \n",
       "2           1            0  \n",
       "4           1            0  \n",
       "6           1            0  \n",
       "9           1            0  \n",
       "11          1            0  \n",
       "14          1            0  \n",
       "18          1            0  \n",
       "20          1            0  \n",
       "21          1            0  "
      ]
     },
     "execution_count": 66,
     "metadata": {},
     "output_type": "execute_result"
    }
   ],
   "source": [
    "df[df.Status == 'Completed']"
   ]
  },
  {
   "cell_type": "code",
   "execution_count": 67,
   "metadata": {},
   "outputs": [],
   "source": [
    "progressStack = df.groupby(['Week', 'Status']).count()\n",
    "completion_stack = df[df.Status == 'Completed']\n",
    "df['CompletedTotal'] = np.cumsum(df.Completed)\n",
    "# df['Total'] = np.cumsum()\n",
    "# df['CompletedTotal'] = np.cumsum(df.Completed)\n"
   ]
  },
  {
   "cell_type": "code",
   "execution_count": 68,
   "metadata": {},
   "outputs": [
    {
     "data": {
      "text/plain": [
       "[Text(0,0.5,'Task Count'),\n",
       " Text(0.5,0,'Weekly Report #'),\n",
       " Text(0.5,1,'Project Progression per Weekly Report')]"
      ]
     },
     "execution_count": 68,
     "metadata": {},
     "output_type": "execute_result"
    },
    {
     "data": {
      "image/png": "[encoded data removed]",
      "text/plain": [
       "<Figure size 432x288 with 1 Axes>"
      ]
     },
     "metadata": {},
     "output_type": "display_data"
    }
   ],
   "source": [
    "sns.set_style(\"darkgrid\", {\"axes.facecolor\": \".9\"})\n",
    "colours = ['green', 'yellow', 'red']\n",
    "ax = sns.countplot(x = 'Week', hue = 'Status', data = df, palette = colours)\n",
    "ax.set(xlabel = 'Weekly Report #', ylabel = 'Task Count', title = 'Project Progression per Weekly Report')\n"
   ]
  },
  {
   "cell_type": "code",
   "execution_count": 69,
   "metadata": {},
   "outputs": [
    {
     "data": {
      "text/html": [
       "<div>\n",
       "<style scoped>\n",
       "    .dataframe tbody tr th:only-of-type {\n",
       "        vertical-align: middle;\n",
       "    }\n",
       "\n",
       "    .dataframe tbody tr th {\n",
       "        vertical-align: top;\n",
       "    }\n",
       "\n",
       "    .dataframe thead th {\n",
       "        text-align: right;\n",
       "    }\n",
       "</style>\n",
       "<table border=\"1\" class=\"dataframe\">\n",
       "  <thead>\n",
       "    <tr style=\"text-align: right;\">\n",
       "      <th></th>\n",
       "      <th>Week</th>\n",
       "      <th>Goal #</th>\n",
       "      <th>Goal</th>\n",
       "      <th>Status</th>\n",
       "      <th>Abandoned</th>\n",
       "      <th>Completed</th>\n",
       "      <th>In Progress</th>\n",
       "      <th>CompletedTotal</th>\n",
       "    </tr>\n",
       "    <tr>\n",
       "      <th>Date</th>\n",
       "      <th></th>\n",
       "      <th></th>\n",
       "      <th></th>\n",
       "      <th></th>\n",
       "      <th></th>\n",
       "      <th></th>\n",
       "      <th></th>\n",
       "      <th></th>\n",
       "    </tr>\n",
       "  </thead>\n",
       "  <tbody>\n",
       "    <tr>\n",
       "      <th>2020-01-27</th>\n",
       "      <td>1</td>\n",
       "      <td>4</td>\n",
       "      <td>Test BME sensors on the Raspberry Pi</td>\n",
       "      <td>In Progress</td>\n",
       "      <td>0</td>\n",
       "      <td>1</td>\n",
       "      <td>1</td>\n",
       "      <td>2</td>\n",
       "    </tr>\n",
       "    <tr>\n",
       "      <th>2020-02-03</th>\n",
       "      <td>2</td>\n",
       "      <td>7</td>\n",
       "      <td>Test the Electrometer Code with Octave (Get th...</td>\n",
       "      <td>In Progress</td>\n",
       "      <td>0</td>\n",
       "      <td>1</td>\n",
       "      <td>1</td>\n",
       "      <td>4</td>\n",
       "    </tr>\n",
       "    <tr>\n",
       "      <th>2020-02-10</th>\n",
       "      <td>3</td>\n",
       "      <td>10</td>\n",
       "      <td>Test the Electrometer Code with Octave (Get th...</td>\n",
       "      <td>In Progress</td>\n",
       "      <td>1</td>\n",
       "      <td>1</td>\n",
       "      <td>1</td>\n",
       "      <td>7</td>\n",
       "    </tr>\n",
       "    <tr>\n",
       "      <th>2020-02-23</th>\n",
       "      <td>4</td>\n",
       "      <td>15</td>\n",
       "      <td>Use Dr. Barlage’s current source and new adapt...</td>\n",
       "      <td>In Progress</td>\n",
       "      <td>0</td>\n",
       "      <td>1</td>\n",
       "      <td>1</td>\n",
       "      <td>10</td>\n",
       "    </tr>\n",
       "  </tbody>\n",
       "</table>\n",
       "</div>"
      ],
      "text/plain": [
       "            Week  Goal #                                               Goal  \\\n",
       "Date                                                                          \n",
       "2020-01-27     1       4               Test BME sensors on the Raspberry Pi   \n",
       "2020-02-03     2       7  Test the Electrometer Code with Octave (Get th...   \n",
       "2020-02-10     3      10  Test the Electrometer Code with Octave (Get th...   \n",
       "2020-02-23     4      15  Use Dr. Barlage’s current source and new adapt...   \n",
       "\n",
       "                 Status  Abandoned  Completed  In Progress  CompletedTotal  \n",
       "Date                                                                        \n",
       "2020-01-27  In Progress          0          1            1               2  \n",
       "2020-02-03  In Progress          0          1            1               4  \n",
       "2020-02-10  In Progress          1          1            1               7  \n",
       "2020-02-23  In Progress          0          1            1              10  "
      ]
     },
     "execution_count": 69,
     "metadata": {},
     "output_type": "execute_result"
    }
   ],
   "source": [
    "completionCount = df.groupby('Date').max()\n",
    "completionCount"
   ]
  },
  {
   "cell_type": "code",
   "execution_count": null,
   "metadata": {},
   "outputs": [],
   "source": []
  },
  {
   "cell_type": "code",
   "execution_count": 70,
   "metadata": {},
   "outputs": [
    {
     "data": {
      "text/plain": [
       "<matplotlib.axes._subplots.AxesSubplot at 0x1a23ec8710>"
      ]
     },
     "execution_count": 70,
     "metadata": {},
     "output_type": "execute_result"
    },
    {
     "data": {
      "image/png": "[encoded data removed]",
      "text/plain": [
       "<Figure size 432x288 with 1 Axes>"
      ]
     },
     "metadata": {},
     "output_type": "display_data"
    }
   ],
   "source": [
    "sns.lineplot(x = 'Week', y = 'CompletedTotal', data = completionCount, palette = colours)"
   ]
  },
  {
   "cell_type": "code",
   "execution_count": 71,
   "metadata": {},
   "outputs": [
    {
     "data": {
      "text/plain": [
       "<matplotlib.axes._subplots.AxesSubplot at 0x1a24d5ab10>"
      ]
     },
     "execution_count": 71,
     "metadata": {},
     "output_type": "execute_result"
    },
    {
     "data": {
      "image/png": "[encoded data removed]",
      "text/plain": [
       "<Figure size 432x288 with 2 Axes>"
      ]
     },
     "metadata": {},
     "output_type": "display_data"
    }
   ],
   "source": [
    "    fig, ax = plt.pyplot.subplots()\n",
    "#     sns.regplot(x='round', y='money', data=firm, ax=ax)\n",
    "    sns.countplot(x = 'Week', hue = 'Status', data = df, palette = colours, ax = ax)\n",
    "    ax2 = ax.twinx()\n",
    "#     ax2.set(ylim(1,10))\n",
    "#     sns.regplot(x='round', y='dead', data=firm, ax=ax2, color='r')\n",
    "    sns.lineplot(x = 'Week', y = 'CompletedTotal', data = completionCount, palette = colours, \n",
    "                 ax = ax2, markers = True)\n",
    "#     sns.plt.ylim(0,10)\n",
    "#     sns.plt.show()"
   ]
  },
  {
   "cell_type": "code",
   "execution_count": 72,
   "metadata": {},
   "outputs": [
    {
     "ename": "TypeError",
     "evalue": "inner() got multiple values for keyword argument 'ax'",
     "output_type": "error",
     "traceback": [
      "\u001b[0;31m---------------------------------------------------------------------------\u001b[0m",
      "\u001b[0;31mTypeError\u001b[0m                                 Traceback (most recent call last)",
      "\u001b[0;32m<ipython-input-72-ed807a479635>\u001b[0m in \u001b[0;36m<module>\u001b[0;34m()\u001b[0m\n\u001b[1;32m      1\u001b[0m \u001b[0mfig\u001b[0m\u001b[0;34m,\u001b[0m \u001b[0max\u001b[0m \u001b[0;34m=\u001b[0m \u001b[0mplt\u001b[0m\u001b[0;34m.\u001b[0m\u001b[0mpyplot\u001b[0m\u001b[0;34m.\u001b[0m\u001b[0msubplots\u001b[0m\u001b[0;34m(\u001b[0m\u001b[0mfigsize\u001b[0m\u001b[0;34m=\u001b[0m\u001b[0;34m(\u001b[0m\u001b[0;36m75\u001b[0m\u001b[0;34m,\u001b[0m\u001b[0;36m3\u001b[0m\u001b[0;34m)\u001b[0m\u001b[0;34m)\u001b[0m\u001b[0;34m\u001b[0m\u001b[0m\n\u001b[0;32m----> 2\u001b[0;31m \u001b[0max\u001b[0m\u001b[0;34m.\u001b[0m\u001b[0mbar\u001b[0m\u001b[0;34m(\u001b[0m\u001b[0mx\u001b[0m \u001b[0;34m=\u001b[0m \u001b[0;34m'Week'\u001b[0m\u001b[0;34m,\u001b[0m \u001b[0mhue\u001b[0m \u001b[0;34m=\u001b[0m \u001b[0;34m'Status'\u001b[0m\u001b[0;34m,\u001b[0m \u001b[0mdata\u001b[0m \u001b[0;34m=\u001b[0m \u001b[0mdf\u001b[0m\u001b[0;34m,\u001b[0m \u001b[0mpalette\u001b[0m \u001b[0;34m=\u001b[0m \u001b[0mcolours\u001b[0m\u001b[0;34m,\u001b[0m \u001b[0max\u001b[0m \u001b[0;34m=\u001b[0m \u001b[0max\u001b[0m\u001b[0;34m)\u001b[0m\u001b[0;34m\u001b[0m\u001b[0m\n\u001b[0m\u001b[1;32m      3\u001b[0m \u001b[0max2\u001b[0m \u001b[0;34m=\u001b[0m \u001b[0max\u001b[0m\u001b[0;34m.\u001b[0m\u001b[0mtwinx\u001b[0m\u001b[0;34m(\u001b[0m\u001b[0;34m)\u001b[0m\u001b[0;34m\u001b[0m\u001b[0m\n\u001b[1;32m      4\u001b[0m \u001b[0max2\u001b[0m\u001b[0;34m.\u001b[0m\u001b[0mylim\u001b[0m\u001b[0;34m(\u001b[0m\u001b[0;36m1\u001b[0m\u001b[0;34m,\u001b[0m\u001b[0;36m10\u001b[0m\u001b[0;34m)\u001b[0m\u001b[0;34m\u001b[0m\u001b[0m\n\u001b[1;32m      5\u001b[0m \u001b[0max2\u001b[0m\u001b[0;34m.\u001b[0m\u001b[0mplot\u001b[0m\u001b[0;34m(\u001b[0m\u001b[0;34m'Week'\u001b[0m\u001b[0;34m,\u001b[0m \u001b[0;34m'CompletedTotal'\u001b[0m\u001b[0;34m,\u001b[0m \u001b[0mdata\u001b[0m\u001b[0;34m=\u001b[0m\u001b[0mdf\u001b[0m\u001b[0;34m,\u001b[0m \u001b[0mcolor\u001b[0m\u001b[0;34m=\u001b[0m\u001b[0;34m'teal'\u001b[0m\u001b[0;34m)\u001b[0m\u001b[0;34m\u001b[0m\u001b[0m\n",
      "\u001b[0;31mTypeError\u001b[0m: inner() got multiple values for keyword argument 'ax'"
     ]
    },
    {
     "data": {
      "image/png": "[encoded data removed]",
      "text/plain": [
       "<Figure size 5400x216 with 1 Axes>"
      ]
     },
     "metadata": {},
     "output_type": "display_data"
    }
   ],
   "source": [
    "fig, ax = plt.pyplot.subplots(figsize=(75,3))\n",
    "ax.bar(x = 'Week', hue = 'Status', data = df, palette = colours, ax = ax)\n",
    "ax2 = ax.twinx()\n",
    "ax2.ylim(1,10)\n",
    "ax2.plot('Week', 'CompletedTotal', data=df, color='teal')"
   ]
  },
  {
   "cell_type": "code",
   "execution_count": null,
   "metadata": {},
   "outputs": [],
   "source": [
    "ax = sns.barplot(x=\"Week\", y=\"Goal\", hue=\"Status\", data=progressStack)"
   ]
  }
 ],
 "metadata": {
  "kernelspec": {
   "display_name": "Python 3",
   "language": "python",
   "name": "python3"
  },
  "language_info": {
   "codemirror_mode": {
    "name": "ipython",
    "version": 2
   },
   "file_extension": ".py",
   "mimetype": "text/x-python",
   "name": "python",
   "nbconvert_exporter": "python",
   "pygments_lexer": "ipython2",
   "version": "2.7.16"
  }
 },
 "nbformat": 4,
 "nbformat_minor": 2
}
